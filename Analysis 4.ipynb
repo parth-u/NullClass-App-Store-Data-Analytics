{
  "nbformat": 4,
  "nbformat_minor": 0,
  "metadata": {
    "colab": {
      "provenance": [],
      "authorship_tag": "ABX9TyMx9rifeU4nKGUePS6BmRZX",
      "include_colab_link": true
    },
    "kernelspec": {
      "name": "python3",
      "display_name": "Python 3"
    },
    "language_info": {
      "name": "python"
    }
  },
  "cells": [
    {
      "cell_type": "markdown",
      "metadata": {
        "id": "view-in-github",
        "colab_type": "text"
      },
      "source": [
        "<a href=\"https://colab.research.google.com/github/parth-u/NullClass-App-Store-Data-Analytics/blob/main/Analysis%204.ipynb\" target=\"_parent\"><img src=\"https://colab.research.google.com/assets/colab-badge.svg\" alt=\"Open In Colab\"/></a>"
      ]
    },
    {
      "cell_type": "code",
      "execution_count": 5,
      "metadata": {
        "colab": {
          "base_uri": "https://localhost:8080/"
        },
        "id": "rDL0YM_xdRU9",
        "outputId": "26a00399-f853-4c58-9d83-812e8d2c36f7"
      },
      "outputs": [
        {
          "output_type": "stream",
          "name": "stdout",
          "text": [
            "Requirement already satisfied: pandas in /usr/local/lib/python3.11/dist-packages (2.2.2)\n",
            "Requirement already satisfied: plotly in /usr/local/lib/python3.11/dist-packages (5.24.1)\n",
            "Requirement already satisfied: pytz in /usr/local/lib/python3.11/dist-packages (2025.1)\n",
            "Requirement already satisfied: numpy>=1.23.2 in /usr/local/lib/python3.11/dist-packages (from pandas) (1.26.4)\n",
            "Requirement already satisfied: python-dateutil>=2.8.2 in /usr/local/lib/python3.11/dist-packages (from pandas) (2.8.2)\n",
            "Requirement already satisfied: tzdata>=2022.7 in /usr/local/lib/python3.11/dist-packages (from pandas) (2025.1)\n",
            "Requirement already satisfied: tenacity>=6.2.0 in /usr/local/lib/python3.11/dist-packages (from plotly) (9.0.0)\n",
            "Requirement already satisfied: packaging in /usr/local/lib/python3.11/dist-packages (from plotly) (24.2)\n",
            "Requirement already satisfied: six>=1.5 in /usr/local/lib/python3.11/dist-packages (from python-dateutil>=2.8.2->pandas) (1.17.0)\n",
            "The graph is not available outside the time range of 6 PM to 8 PM IST.\n"
          ]
        }
      ],
      "source": [
        "!pip install pandas plotly pytz\n",
        "import pandas as pd\n",
        "from datetime import datetime\n",
        "import pytz\n",
        "import plotly.express as px\n",
        "\n",
        "# Load Data\n",
        "data = pd.read_csv('/content/sample_data/Play Store Data.csv')\n",
        "\n",
        "# Data Cleaning\n",
        "data = data[data['Installs'].str.replace('[+,]', '', regex=True).str.isnumeric()]\n",
        "data['Installs'] = data['Installs'].str.replace('[+,]', '', regex=True).astype(float)\n",
        "\n",
        "# Filter Categories\n",
        "filtered_data = data[~data['Category'].str.startswith(('A', 'C', 'G', 'S'))]\n",
        "filtered_data = filtered_data[filtered_data['Installs'] > 1_000_000]\n",
        "\n",
        "# Aggregate installs by category\n",
        "category_installs = filtered_data.groupby('Category')['Installs'].sum().reset_index()\n",
        "\n",
        "# Select Top 5 Categories\n",
        "top_categories = category_installs.nlargest(5, 'Installs')\n",
        "top_categories['Country'] = ['USA', 'India', 'Brazil', 'Russia', 'Germany']  # Example country mapping\n",
        "\n",
        "# Time-based Restriction\n",
        "ist = pytz.timezone('Asia/Kolkata')\n",
        "current_time = datetime.now(ist).time()\n",
        "start_time = datetime.strptime(\"18:00\", \"%H:%M\").time()\n",
        "end_time = datetime.strptime(\"20:00\", \"%H:%M\").time()\n",
        "\n",
        "if start_time <= current_time <= end_time:\n",
        "    # Create Choropleth Map with Dark Theme\n",
        "    fig = px.choropleth(\n",
        "        top_categories,\n",
        "        locations=\"Country\",\n",
        "        locationmode=\"country names\",\n",
        "        color=\"Installs\",\n",
        "        hover_name=\"Category\",\n",
        "        title=\"Global Installs by Top App Categories\",\n",
        "        color_continuous_scale=px.colors.sequential.Viridis,  # Vibrant Color\n",
        "    )\n",
        "\n",
        "    # Layout Customization\n",
        "    fig.update_layout(\n",
        "        paper_bgcolor=\"black\",\n",
        "        plot_bgcolor=\"black\",\n",
        "        font=dict(color=\"white\"),  # White font for visibility\n",
        "        title_x=0.5,\n",
        "        margin={\"r\": 0, \"t\": 50, \"l\": 0, \"b\": 0},\n",
        "    )\n",
        "\n",
        "    fig.show()\n",
        "else:\n",
        "    print(\"The graph is not available outside the time range of 6 PM to 8 PM IST.\")\n"
      ]
    }
  ]
}