{
  "nbformat": 4,
  "nbformat_minor": 0,
  "metadata": {
    "colab": {
      "provenance": [],
      "authorship_tag": "ABX9TyOA4pnMRgO+Szcgbrdz1MTx",
      "include_colab_link": true
    },
    "kernelspec": {
      "name": "python3",
      "display_name": "Python 3"
    },
    "language_info": {
      "name": "python"
    }
  },
  "cells": [
    {
      "cell_type": "markdown",
      "metadata": {
        "id": "view-in-github",
        "colab_type": "text"
      },
      "source": [
        "<a href=\"https://colab.research.google.com/github/parth-u/NullClass-App-Store-Data-Analytics/blob/main/Analysis%204.ipynb\" target=\"_parent\"><img src=\"https://colab.research.google.com/assets/colab-badge.svg\" alt=\"Open In Colab\"/></a>"
      ]
    },
    {
      "cell_type": "code",
      "execution_count": 3,
      "metadata": {
        "colab": {
          "base_uri": "https://localhost:8080/"
        },
        "id": "rDL0YM_xdRU9",
        "outputId": "dd905543-366f-4473-cb29-95e35ffca483"
      },
      "outputs": [
        {
          "output_type": "stream",
          "name": "stdout",
          "text": [
            "Graph can only be viewed between 6 PM IST and 9 PM IST.\n"
          ]
        },
        {
          "output_type": "stream",
          "name": "stderr",
          "text": [
            "<ipython-input-3-ef77f0d29f23>:29: SettingWithCopyWarning: \n",
            "A value is trying to be set on a copy of a slice from a DataFrame.\n",
            "Try using .loc[row_indexer,col_indexer] = value instead\n",
            "\n",
            "See the caveats in the documentation: https://pandas.pydata.org/pandas-docs/stable/user_guide/indexing.html#returning-a-view-versus-a-copy\n",
            "  filtered_df['Year-Month'] = filtered_df['Last Updated'].dt.to_period('M')\n"
          ]
        }
      ],
      "source": [
        "import pandas as pd\n",
        "import numpy as np\n",
        "import matplotlib.pyplot as plt\n",
        "import datetime\n",
        "import pytz\n",
        "\n",
        "# Load dataset\n",
        "file_path = \"/content/sample_data/Play Store Data.csv\"\n",
        "df = pd.read_csv(file_path)\n",
        "\n",
        "# Convert 'Installs' column: Remove non-numeric values\n",
        "df['Installs'] = df['Installs'].astype(str).str.replace(r'[^\\d]', '', regex=True)\n",
        "\n",
        "# Convert to numeric and drop NaNs (invalid rows)\n",
        "df['Installs'] = pd.to_numeric(df['Installs'], errors='coerce')\n",
        "df = df.dropna(subset=['Installs'])\n",
        "\n",
        "# Convert 'Last Updated' to datetime\n",
        "df['Last Updated'] = pd.to_datetime(df['Last Updated'], errors='coerce')\n",
        "\n",
        "# Filter data based on conditions\n",
        "filtered_df = df[\n",
        "    (df['Content Rating'] == 'Teen') &\n",
        "    (df['App'].str.startswith('E', na=False)) &\n",
        "    (df['Installs'] > 10000)\n",
        "]\n",
        "\n",
        "# Group by Month & Category\n",
        "filtered_df['Year-Month'] = filtered_df['Last Updated'].dt.to_period('M')\n",
        "grouped_df = filtered_df.groupby(['Year-Month', 'Category'])['Installs'].sum().reset_index()\n",
        "\n",
        "# Convert Year-Month to datetime\n",
        "grouped_df['Year-Month'] = grouped_df['Year-Month'].astype(str)\n",
        "grouped_df['Year-Month'] = pd.to_datetime(grouped_df['Year-Month'])\n",
        "\n",
        "# Calculate MoM Growth\n",
        "grouped_df['Prev Month Installs'] = grouped_df.groupby('Category')['Installs'].shift(1)\n",
        "grouped_df['MoM Growth %'] = ((grouped_df['Installs'] - grouped_df['Prev Month Installs']) / grouped_df['Prev Month Installs']) * 100\n",
        "grouped_df['Highlight Growth'] = grouped_df['MoM Growth %'] > 20  # Identify periods with >20% growth\n",
        "\n",
        "# Get current time in IST\n",
        "ist = pytz.timezone('Asia/Kolkata')\n",
        "current_time = datetime.datetime.now(ist).time()\n",
        "start_time = datetime.time(18, 0)  # 6 PM IST\n",
        "end_time = datetime.time(21, 0)  # 9 PM IST\n",
        "\n",
        "if start_time <= current_time <= end_time:\n",
        "    # Create plot\n",
        "    plt.figure(figsize=(12, 6), facecolor='black')\n",
        "    categories = grouped_df['Category'].unique()\n",
        "    colors = plt.cm.jet(np.linspace(0, 1, len(categories)))\n",
        "\n",
        "    # Plot each category\n",
        "    for cat, color in zip(categories, colors):\n",
        "        category_data = grouped_df[grouped_df['Category'] == cat]\n",
        "        plt.plot(category_data['Year-Month'], category_data['Installs'], label=cat, color=color, linewidth=2)\n",
        "        plt.fill_between(category_data['Year-Month'], category_data['Installs'], where=category_data['Highlight Growth'], color='red', alpha=0.3)\n",
        "\n",
        "    # Customize plot\n",
        "    plt.xlabel(\"Date\", fontsize=14, color='white')\n",
        "    plt.ylabel(\"Total Installs\", fontsize=14, color='white')\n",
        "    plt.title(\"Total Installs Over Time by Category\", fontsize=16, color='white')\n",
        "    plt.xticks(color='white', rotation=45)\n",
        "    plt.yticks(color='white')\n",
        "    plt.grid(alpha=0.3)\n",
        "    plt.legend(fontsize=12)\n",
        "    plt.gca().set_facecolor(\"black\")  # Black background\n",
        "\n",
        "    # Show plot\n",
        "    plt.show()\n",
        "else:\n",
        "    print(\"Graph can only be viewed between 6 PM IST and 9 PM IST.\")\n"
      ]
    }
  ]
}
