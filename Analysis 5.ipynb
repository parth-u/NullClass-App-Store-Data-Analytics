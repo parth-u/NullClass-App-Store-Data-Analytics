{
  "nbformat": 4,
  "nbformat_minor": 0,
  "metadata": {
    "colab": {
      "provenance": [],
      "authorship_tag": "ABX9TyOeVj8Lw0MjCNbvLY/wW4Ty",
      "include_colab_link": true
    },
    "kernelspec": {
      "name": "python3",
      "display_name": "Python 3"
    },
    "language_info": {
      "name": "python"
    }
  },
  "cells": [
    {
      "cell_type": "markdown",
      "metadata": {
        "id": "view-in-github",
        "colab_type": "text"
      },
      "source": [
        "<a href=\"https://colab.research.google.com/github/parth-u/NullClass-App-Store-Data-Analytics/blob/main/Analysis%205.ipynb\" target=\"_parent\"><img src=\"https://colab.research.google.com/assets/colab-badge.svg\" alt=\"Open In Colab\"/></a>"
      ]
    },
    {
      "cell_type": "code",
      "execution_count": 4,
      "metadata": {
        "colab": {
          "base_uri": "https://localhost:8080/"
        },
        "id": "rDL0YM_xdRU9",
        "outputId": "5ea0a076-2bcc-49eb-c526-401c5ed574b3"
      },
      "outputs": [
        {
          "output_type": "stream",
          "name": "stdout",
          "text": [
            "\n",
            "📌 Dataset Overview Before Filtering\n",
            "           Installs       Reviews\n",
            "count  1.084000e+04  1.084000e+04\n",
            "mean   1.546434e+07  4.441529e+05\n",
            "std    8.502936e+07  2.927761e+06\n",
            "min    0.000000e+00  0.000000e+00\n",
            "25%    1.000000e+03  3.800000e+01\n",
            "50%    1.000000e+05  2.094000e+03\n",
            "75%    5.000000e+06  5.477550e+04\n",
            "max    1.000000e+09  7.815831e+07\n",
            "\n",
            "🔍 Filter Values: Installs ≥ 1000, Reviews ≥ 50\n",
            "After removing date filter: (10840, 13)\n",
            "After installs & reviews filtering: (7923, 13)\n",
            "After genres filtering: (7923, 13)\n",
            "Final dataset size before correlation: (7859, 3)\n",
            "⏳ Graph not available outside allowed hours (2 PM - 4 PM IST).\n"
          ]
        }
      ],
      "source": [
        "import pandas as pd\n",
        "import seaborn as sns\n",
        "import matplotlib.pyplot as plt\n",
        "from datetime import datetime\n",
        "import pytz  # For timezone conversion\n",
        "\n",
        "# Load the dataset\n",
        "file_path = '/content/sample_data/Play Store Data.csv'  # Replace with your actual file path\n",
        "data = pd.read_csv(file_path)\n",
        "\n",
        "# Data Cleaning\n",
        "# Convert Installs to numeric\n",
        "data['Installs'] = data['Installs'].str.replace('[+,]', '', regex=True)\n",
        "data = data[data['Installs'].str.isnumeric()]  # Remove invalid rows\n",
        "data['Installs'] = data['Installs'].astype(float)\n",
        "\n",
        "# Convert Reviews to numeric\n",
        "data['Reviews'] = pd.to_numeric(data['Reviews'], errors='coerce')\n",
        "\n",
        "# 📊 Check data distribution before filtering\n",
        "print(\"\\n📌 Dataset Overview Before Filtering\")\n",
        "print(data[['Installs', 'Reviews']].describe())\n",
        "\n",
        "# 🚀 Set Dynamic Filters Based on Data\n",
        "min_installs = max(1000, data['Installs'].quantile(0.05))  # Ensures reasonable threshold\n",
        "min_reviews = max(50, data['Reviews'].quantile(0.05))  # Ensures reasonable threshold\n",
        "\n",
        "print(f\"\\n🔍 Filter Values: Installs ≥ {min_installs}, Reviews ≥ {min_reviews}\")\n",
        "\n",
        "# 🔹 Step 1: Remove date filter completely\n",
        "filtered_data = data.copy()\n",
        "print(f\"After removing date filter: {filtered_data.shape}\")\n",
        "\n",
        "# 🔹 Step 2: Apply install & review filters\n",
        "filtered_data = filtered_data[(filtered_data['Installs'] >= min_installs) & (filtered_data['Reviews'] >= min_reviews)]\n",
        "print(f\"After installs & reviews filtering: {filtered_data.shape}\")\n",
        "\n",
        "# 🔹 Step 3: Exclude only a few genres\n",
        "excluded_letters = ('X', 'Y', 'Z')  # Excluding rare genres only\n",
        "filtered_data = filtered_data[~filtered_data['Genres'].str.startswith(excluded_letters, na=False)]\n",
        "print(f\"After genres filtering: {filtered_data.shape}\")\n",
        "\n",
        "# Select relevant columns for correlation matrix\n",
        "filtered_data = filtered_data[['Installs', 'Rating', 'Reviews']].dropna()\n",
        "print(f\"Final dataset size before correlation: {filtered_data.shape}\")\n",
        "\n",
        "# ⏰ Time Restriction: Show Graph Only Between 2 PM - 4 PM IST\n",
        "ist = pytz.timezone('Asia/Kolkata')\n",
        "current_time = datetime.now(ist).time()\n",
        "start_time = datetime.strptime(\"14:00:00\", \"%H:%M:%S\").time()\n",
        "end_time = datetime.strptime(\"16:00:00\", \"%H:%M:%S\").time()\n",
        "\n",
        "if start_time <= current_time <= end_time:\n",
        "    if filtered_data.empty:\n",
        "        print(\"❌ No data left after filtering! Try reducing the filters further.\")\n",
        "    else:\n",
        "        # Generate the correlation matrix\n",
        "        corr_matrix = filtered_data.corr()\n",
        "        print(\"📊 Correlation Matrix:\\n\", corr_matrix)\n",
        "\n",
        "        # Plot the heatmap with a dark theme\n",
        "        plt.figure(figsize=(8, 6), facecolor='black')  # Dark background\n",
        "        sns.set_style(\"dark\")  # Dark style for aesthetics\n",
        "\n",
        "        heatmap = sns.heatmap(\n",
        "            corr_matrix,\n",
        "            annot=True,\n",
        "            cmap='magma',  # Vibrant color map\n",
        "            fmt='.2f',\n",
        "            linewidths=1,\n",
        "            linecolor='black',\n",
        "            annot_kws={\"size\": 12, \"color\": \"white\"}  # White text\n",
        "        )\n",
        "\n",
        "        plt.title('Correlation Matrix for Filtered Data', fontsize=14, color='white')  # White title\n",
        "        plt.xticks(color='white')  # White axis labels\n",
        "        plt.yticks(color='white')  # White axis labels\n",
        "        plt.show()\n",
        "else:\n",
        "    print(\"⏳ Graph not available outside allowed hours (2 PM - 4 PM IST).\")\n"
      ]
    }
  ]
}